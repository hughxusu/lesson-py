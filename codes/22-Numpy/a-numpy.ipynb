{
 "cells": [
  {
   "cell_type": "code",
   "execution_count": 1,
   "id": "e8073af3",
   "metadata": {
    "ExecuteTime": {
     "end_time": "2025-09-01T10:44:28.546862Z",
     "start_time": "2025-09-01T10:44:28.498182Z"
    }
   },
   "outputs": [
    {
     "data": {
      "text/plain": [
       "'2.3.2'"
      ]
     },
     "execution_count": 1,
     "metadata": {},
     "output_type": "execute_result"
    }
   ],
   "source": [
    "import numpy\n",
    "numpy.__version__"
   ]
  },
  {
   "cell_type": "code",
   "execution_count": 2,
   "id": "71cdd8be",
   "metadata": {
    "ExecuteTime": {
     "end_time": "2025-09-01T10:44:30.963506Z",
     "start_time": "2025-09-01T10:44:30.961556Z"
    }
   },
   "outputs": [
    {
     "name": "stdout",
     "output_type": "stream",
     "text": [
      "[0, 1, 2, 3, 4, 5, 6, 7, 8, 9]\n",
      "[0, 1, 2, 3, 4, 100, 6, 7, 8, 9]\n",
      "[0, 1, 2, 3, 4, 'learning numpy', 6, 7, 8, 9]\n"
     ]
    }
   ],
   "source": [
    "l = [i for i in range(10)]\n",
    "print(l)\n",
    "\n",
    "l[5] = 100\n",
    "print(l)\n",
    "\n",
    "l[5] = 'learning numpy'\n",
    "print(l)"
   ]
  },
  {
   "cell_type": "code",
   "execution_count": 4,
   "id": "2a04c65e",
   "metadata": {
    "ExecuteTime": {
     "end_time": "2025-09-01T10:44:33.789910Z",
     "start_time": "2025-09-01T10:44:33.787262Z"
    }
   },
   "outputs": [
    {
     "name": "stdout",
     "output_type": "stream",
     "text": [
      "array('i', [0, 1, 2, 3, 4, 5, 6, 7, 8, 9])\n",
      "array('i', [0, 1, 2, 3, 4, 100, 6, 7, 8, 9])\n"
     ]
    }
   ],
   "source": [
    "import array\n",
    "arr = array.array('i', [i for i in range(10)])\n",
    "print(arr)\n",
    "\n",
    "arr[5] = 100\n",
    "print(arr)"
   ]
  },
  {
   "cell_type": "code",
   "execution_count": 5,
   "id": "60ed971c",
   "metadata": {
    "ExecuteTime": {
     "end_time": "2025-09-01T10:44:35.662253Z",
     "start_time": "2025-09-01T10:44:35.575920Z"
    }
   },
   "outputs": [
    {
     "ename": "TypeError",
     "evalue": "'str' object cannot be interpreted as an integer",
     "output_type": "error",
     "traceback": [
      "\u001b[31m---------------------------------------------------------------------------\u001b[39m",
      "\u001b[31mTypeError\u001b[39m                                 Traceback (most recent call last)",
      "\u001b[36mCell\u001b[39m\u001b[36m \u001b[39m\u001b[32mIn[5]\u001b[39m\u001b[32m, line 1\u001b[39m\n\u001b[32m----> \u001b[39m\u001b[32m1\u001b[39m \u001b[43marr\u001b[49m\u001b[43m[\u001b[49m\u001b[32;43m5\u001b[39;49m\u001b[43m]\u001b[49m = \u001b[33m'\u001b[39m\u001b[33mlearning numpy\u001b[39m\u001b[33m'\u001b[39m\n",
      "\u001b[31mTypeError\u001b[39m: 'str' object cannot be interpreted as an integer"
     ]
    }
   ],
   "source": [
    "arr[5] = 'learning numpy'"
   ]
  },
  {
   "cell_type": "code",
   "execution_count": 6,
   "id": "ec791a1b",
   "metadata": {
    "ExecuteTime": {
     "end_time": "2025-09-01T10:44:38.254032Z",
     "start_time": "2025-09-01T10:44:38.250308Z"
    }
   },
   "outputs": [
    {
     "name": "stdout",
     "output_type": "stream",
     "text": [
      "[0 1 2 3 4 5 6 7 8 9]\n",
      "<class 'numpy.ndarray'>\n",
      "[  0   1   2   3   4 100   6   7   8   9]\n"
     ]
    }
   ],
   "source": [
    "import numpy as np\n",
    "\n",
    "arr = np.array([i for i in range(10)])\n",
    "print(arr)\n",
    "print(type(arr))\n",
    "\n",
    "arr[5] = 100\n",
    "print(arr)"
   ]
  },
  {
   "cell_type": "code",
   "execution_count": 7,
   "id": "9805d7d7",
   "metadata": {
    "ExecuteTime": {
     "end_time": "2025-09-01T10:44:40.312504Z",
     "start_time": "2025-09-01T10:44:40.298304Z"
    }
   },
   "outputs": [
    {
     "ename": "ValueError",
     "evalue": "invalid literal for int() with base 10: 'learning numpy'",
     "output_type": "error",
     "traceback": [
      "\u001b[31m---------------------------------------------------------------------------\u001b[39m",
      "\u001b[31mValueError\u001b[39m                                Traceback (most recent call last)",
      "\u001b[36mCell\u001b[39m\u001b[36m \u001b[39m\u001b[32mIn[7]\u001b[39m\u001b[32m, line 1\u001b[39m\n\u001b[32m----> \u001b[39m\u001b[32m1\u001b[39m \u001b[43marr\u001b[49m\u001b[43m[\u001b[49m\u001b[32;43m5\u001b[39;49m\u001b[43m]\u001b[49m = \u001b[33m'\u001b[39m\u001b[33mlearning numpy\u001b[39m\u001b[33m'\u001b[39m\n",
      "\u001b[31mValueError\u001b[39m: invalid literal for int() with base 10: 'learning numpy'"
     ]
    }
   ],
   "source": [
    "arr[5] = 'learning numpy'"
   ]
  },
  {
   "cell_type": "code",
   "execution_count": 8,
   "id": "954eae22",
   "metadata": {
    "ExecuteTime": {
     "end_time": "2025-09-01T10:44:43.273751Z",
     "start_time": "2025-09-01T10:44:43.271167Z"
    }
   },
   "outputs": [
    {
     "name": "stdout",
     "output_type": "stream",
     "text": [
      "int64\n"
     ]
    }
   ],
   "source": [
    "print(arr.dtype)"
   ]
  },
  {
   "cell_type": "code",
   "execution_count": 9,
   "id": "9ab79206",
   "metadata": {
    "ExecuteTime": {
     "end_time": "2025-09-01T10:44:45.317805Z",
     "start_time": "2025-09-01T10:44:45.313974Z"
    }
   },
   "outputs": [
    {
     "name": "stdout",
     "output_type": "stream",
     "text": [
      "[0. 0. 0. 0. 0. 0. 0. 0. 0. 0.]\n",
      "float64\n",
      "[0 0 0 0 0 0 0 0 0 0]\n",
      "int64\n"
     ]
    }
   ],
   "source": [
    "# 创建一个长度为10的数组，数组的值都是0。\n",
    "zeros = np.zeros(10)\n",
    "print(zeros)\n",
    "print(zeros.dtype) # 默认的数量类型是浮点型。\n",
    "\n",
    "zeros_two = np.zeros(10, dtype=int) # 创建整形数组。\n",
    "print(zeros_two)\n",
    "print(zeros_two.dtype)"
   ]
  },
  {
   "cell_type": "code",
   "execution_count": 10,
   "id": "1201fa4c",
   "metadata": {
    "ExecuteTime": {
     "end_time": "2025-09-01T10:44:47.633398Z",
     "start_time": "2025-09-01T10:44:47.631208Z"
    }
   },
   "outputs": [
    {
     "name": "stdout",
     "output_type": "stream",
     "text": [
      "[0 0 0]\n"
     ]
    }
   ],
   "source": [
    "a = [1, 2, 3]\n",
    "arr = np.zeros_like(a)\n",
    "print(arr)"
   ]
  },
  {
   "cell_type": "code",
   "execution_count": 11,
   "id": "5249ef1c",
   "metadata": {
    "ExecuteTime": {
     "end_time": "2025-09-01T10:44:50.495262Z",
     "start_time": "2025-09-01T10:44:50.493486Z"
    }
   },
   "outputs": [
    {
     "name": "stdout",
     "output_type": "stream",
     "text": [
      "[[1. 1. 1. 1. 1.]\n",
      " [1. 1. 1. 1. 1.]\n",
      " [1. 1. 1. 1. 1.]]\n"
     ]
    }
   ],
   "source": [
    "# 创建一个3×5的浮点型数组，数组的值都是1。\n",
    "ones = np.ones(shape=(3, 5), dtype=float)\n",
    "print(ones)"
   ]
  },
  {
   "cell_type": "code",
   "execution_count": 12,
   "id": "084903e5",
   "metadata": {},
   "outputs": [
    {
     "name": "stdout",
     "output_type": "stream",
     "text": [
      "[[1 1 1]\n",
      " [1 1 1]]\n"
     ]
    }
   ],
   "source": [
    "a = [[1, 2, 3], [4, 5, 6]]\n",
    "arr = np.ones_like(a)\n",
    "print(arr)"
   ]
  },
  {
   "cell_type": "code",
   "execution_count": 13,
   "id": "e6868d3d",
   "metadata": {
    "ExecuteTime": {
     "end_time": "2025-09-01T10:46:06.487954Z",
     "start_time": "2025-09-01T10:46:06.486027Z"
    }
   },
   "outputs": [
    {
     "name": "stdout",
     "output_type": "stream",
     "text": [
      "[[3.14 3.14 3.14 3.14 3.14]\n",
      " [3.14 3.14 3.14 3.14 3.14]\n",
      " [3.14 3.14 3.14 3.14 3.14]]\n"
     ]
    }
   ],
   "source": [
    "# 创建一个3×5的浮点型数组，数组的值都是3.14。\n",
    "w = np.full(shape=(3, 5), fill_value=3.14)\n",
    "print(w)"
   ]
  },
  {
   "cell_type": "code",
   "execution_count": 14,
   "id": "3cbe155e",
   "metadata": {
    "ExecuteTime": {
     "end_time": "2025-09-01T10:46:08.459457Z",
     "start_time": "2025-09-01T10:46:08.456609Z"
    }
   },
   "outputs": [
    {
     "name": "stdout",
     "output_type": "stream",
     "text": [
      "[ 0  2  4  6  8 10 12 14 16 18]\n",
      "[0.  0.2 0.4 0.6 0.8]\n",
      "[0 1 2 3 4 5 6 7 8 9]\n",
      "int64\n",
      "[0 1 2 3 4 5 6 7 8 9]\n"
     ]
    }
   ],
   "source": [
    "arr = np.arange(0, 20, 2)\n",
    "print(arr)\n",
    "\n",
    "arr = np.arange(0, 1, 0.2) # arange支持浮点步长\n",
    "print(arr)\n",
    "\n",
    "arr = np.arange(0, 10) \n",
    "print(arr)\n",
    "print(arr.dtype)\n",
    "\n",
    "arr = np.arange(10)\n",
    "print(arr)"
   ]
  },
  {
   "cell_type": "code",
   "execution_count": 15,
   "id": "4724fec1",
   "metadata": {
    "ExecuteTime": {
     "end_time": "2025-09-01T10:46:10.368046Z",
     "start_time": "2025-09-01T10:46:10.365158Z"
    }
   },
   "outputs": [
    {
     "name": "stdout",
     "output_type": "stream",
     "text": [
      "[ 0.          0.40816327  0.81632653  1.2244898   1.63265306  2.04081633\n",
      "  2.44897959  2.85714286  3.26530612  3.67346939  4.08163265  4.48979592\n",
      "  4.89795918  5.30612245  5.71428571  6.12244898  6.53061224  6.93877551\n",
      "  7.34693878  7.75510204  8.16326531  8.57142857  8.97959184  9.3877551\n",
      "  9.79591837 10.20408163 10.6122449  11.02040816 11.42857143 11.83673469\n",
      " 12.24489796 12.65306122 13.06122449 13.46938776 13.87755102 14.28571429\n",
      " 14.69387755 15.10204082 15.51020408 15.91836735 16.32653061 16.73469388\n",
      " 17.14285714 17.55102041 17.95918367 18.36734694 18.7755102  19.18367347\n",
      " 19.59183673 20.        ]\n",
      "[ 0.          2.22222222  4.44444444  6.66666667  8.88888889 11.11111111\n",
      " 13.33333333 15.55555556 17.77777778 20.        ]\n",
      "[ 0.  2.  4.  6.  8. 10. 12. 14. 16. 18. 20.]\n"
     ]
    }
   ],
   "source": [
    "arr = np.linspace(0, 20) \n",
    "print(arr)\n",
    "\n",
    "arr = np.linspace(0, 20, 10)\n",
    "print(arr)\n",
    "\n",
    "arr = np.linspace(0, 20, 11)\n",
    "print(arr)"
   ]
  },
  {
   "cell_type": "code",
   "execution_count": 16,
   "id": "a38f7b15",
   "metadata": {
    "ExecuteTime": {
     "end_time": "2025-09-01T10:46:12.324165Z",
     "start_time": "2025-09-01T10:46:12.321651Z"
    }
   },
   "outputs": [
    {
     "name": "stdout",
     "output_type": "stream",
     "text": [
      "[[1 2 3]\n",
      " [4 5 6]]\n",
      "[[1 2 3]\n",
      " [4 5 6]]\n",
      "[[1, 2, 3], [4, 5, 6]]\n",
      "[[100   2   3]\n",
      " [  4   5   6]]\n",
      "[[100   2   3]\n",
      " [  4   5   6]]\n"
     ]
    }
   ],
   "source": [
    "a = [[1, 2, 3], [4, 5, 6]]\n",
    "a1 = np.array(a) # 深拷贝\n",
    "print(a1)\n",
    "\n",
    "a2 = np.asarray(a1) # 浅拷贝\n",
    "print(a2)\n",
    "\n",
    "a1[0][0] = 100\n",
    "print(a)\n",
    "print(a1)\n",
    "print(a2)"
   ]
  },
  {
   "cell_type": "code",
   "execution_count": 17,
   "id": "aea6bc63",
   "metadata": {
    "ExecuteTime": {
     "end_time": "2025-09-01T10:46:14.615867Z",
     "start_time": "2025-09-01T10:46:14.589749Z"
    }
   },
   "outputs": [
    {
     "name": "stdout",
     "output_type": "stream",
     "text": [
      "7\n",
      "[5 8 1 8 2 6 7 3 0 1]\n",
      "[0 0 0 0 0 0 0 0 0 0]\n",
      "[7 2 0 0 8 5 8 3 2 5]\n",
      "[[5 4 4 7 0]\n",
      " [8 4 5 0 1]\n",
      " [2 0 9 8 2]]\n"
     ]
    }
   ],
   "source": [
    "arr = np.random.randint(0, 10) # 生成一个随机整数，反正在[0, 10)之间\n",
    "print(arr)\n",
    "\n",
    "arr = np.random.randint(0, 10, 10) # 生成一维数组\n",
    "print(arr)\n",
    "\n",
    "arr = np.random.randint(0, 1, 10) # 测试随机数的范围\n",
    "print(arr)\n",
    "\n",
    "arr = np.random.randint(0, 10, size=10) # 显示指明数组大小\n",
    "print(arr)\n",
    "\n",
    "arr = np.random.randint(0, 10, size=(3, 5)) # 生成随机矩阵\n",
    "print(arr)"
   ]
  },
  {
   "cell_type": "code",
   "execution_count": 18,
   "id": "e91796af",
   "metadata": {
    "ExecuteTime": {
     "end_time": "2025-09-01T10:46:17.237409Z",
     "start_time": "2025-09-01T10:46:17.234847Z"
    }
   },
   "outputs": [
    {
     "name": "stdout",
     "output_type": "stream",
     "text": [
      "[[4 6 5 6 6]\n",
      " [6 5 6 4 5]\n",
      " [7 6 7 4 7]]\n"
     ]
    }
   ],
   "source": [
    "np.random.seed(666)\n",
    "arr = np.random.randint(4, 8, size=(3, 5))\n",
    "print(arr)"
   ]
  },
  {
   "cell_type": "code",
   "execution_count": 19,
   "id": "c53a0dcf",
   "metadata": {
    "ExecuteTime": {
     "end_time": "2025-09-01T10:46:18.773903Z",
     "start_time": "2025-09-01T10:46:18.772023Z"
    }
   },
   "outputs": [
    {
     "name": "stdout",
     "output_type": "stream",
     "text": [
      "[0.28116849 0.46284169 0.23340091 0.76706421 0.81995656 0.39747625\n",
      " 0.31644109 0.15551206 0.73460987 0.73159555]\n",
      "[[0.8578588  0.76741234 0.95323137 0.29097383 0.84778197]\n",
      " [0.3497619  0.92389692 0.29489453 0.52438061 0.94253896]\n",
      " [0.07473949 0.27646251 0.4675855  0.31581532 0.39016259]]\n"
     ]
    }
   ],
   "source": [
    "arr = np.random.random(10)\n",
    "print(arr)\n",
    "\n",
    "arr = np.random.random((3, 5))\n",
    "print(arr)"
   ]
  },
  {
   "cell_type": "code",
   "execution_count": 20,
   "id": "5fa7c3ab",
   "metadata": {
    "ExecuteTime": {
     "end_time": "2025-09-01T10:46:20.246025Z",
     "start_time": "2025-09-01T10:46:20.242702Z"
    }
   },
   "outputs": [
    {
     "name": "stdout",
     "output_type": "stream",
     "text": [
      "0.9047266176428719\n",
      "-72.62832650185376\n",
      "[[ 0.82101369  0.36712592  1.65399586  0.13946473 -1.21715355]\n",
      " [-0.99494737 -1.56448586 -1.62879004  1.23174866 -0.91360034]\n",
      " [-0.27084407  1.42024914 -0.98226439  0.80976498  1.85205227]]\n",
      "[[ 1.67819021 -0.98076924  0.47031082  0.18226991 -0.84388249]\n",
      " [ 0.20996833  0.22958666  0.26307642  2.16633222 -1.04887593]\n",
      " [-1.84768442  0.53401503 -1.19574802 -0.28915737 -0.24332703]]\n"
     ]
    }
   ],
   "source": [
    "value = np.random.normal()\n",
    "print(value)\n",
    "\n",
    "value = np.random.normal(10, 100)\n",
    "print(value)\n",
    "\n",
    "arr = np.random.normal(0, 1, (3, 5))\n",
    "print(arr)\n",
    "\n",
    "arr = np.random.normal(size=(3, 5))\n",
    "print(arr)"
   ]
  },
  {
   "cell_type": "code",
   "execution_count": 21,
   "id": "9bc6dc13",
   "metadata": {
    "ExecuteTime": {
     "end_time": "2025-09-01T10:46:28.707679Z",
     "start_time": "2025-09-01T10:46:28.705089Z"
    }
   },
   "outputs": [
    {
     "name": "stdout",
     "output_type": "stream",
     "text": [
      "[1. 2. 3. 4. 5. 6.]\n"
     ]
    }
   ],
   "source": [
    "arr = np.array([1, 2, 3, 4, 5, 6], dtype=np.float32)\n",
    "print(arr)"
   ]
  },
  {
   "cell_type": "code",
   "execution_count": 22,
   "id": "f21b202f",
   "metadata": {
    "ExecuteTime": {
     "end_time": "2025-09-01T10:46:30.439119Z",
     "start_time": "2025-09-01T10:46:30.436408Z"
    }
   },
   "outputs": [
    {
     "name": "stdout",
     "output_type": "stream",
     "text": [
      "[0 1 2 3 4 5 6 7 8 9]\n",
      "int64\n",
      "[0 1 2 3 4 3 6 7 8 9]\n",
      "int64\n",
      "float64\n"
     ]
    }
   ],
   "source": [
    "arr = np.arange(10)\n",
    "print(arr)\n",
    "print(arr.dtype)\n",
    "\n",
    "# 强制转换为整形\n",
    "arr[5] = 3.14\n",
    "print(arr)\n",
    "print(arr.dtype)\n",
    "\n",
    "# 创建浮点数据类型。\n",
    "arr2 = np.array([1, 2, 3.14])\n",
    "print(arr2.dtype)"
   ]
  },
  {
   "cell_type": "code",
   "execution_count": 23,
   "id": "e19f1c5a",
   "metadata": {
    "ExecuteTime": {
     "end_time": "2025-09-01T10:46:32.423398Z",
     "start_time": "2025-09-01T10:46:32.420323Z"
    }
   },
   "outputs": [
    {
     "name": "stdout",
     "output_type": "stream",
     "text": [
      "[[ 0  1  2  3  4]\n",
      " [ 5  6  7  8  9]\n",
      " [10 11 12 13 14]]\n",
      "[0 1 2 3 4 5 6 7 8 9]\n",
      "2\n",
      "1\n",
      "(3, 5)\n",
      "(10,)\n",
      "15\n",
      "10\n"
     ]
    }
   ],
   "source": [
    "x = np.arange(15).reshape(3, 5)\n",
    "y = np.arange(10)\n",
    "print(x)\n",
    "print(y)\n",
    "\n",
    "# 数组的维度\n",
    "print(x.ndim)\n",
    "print(y.ndim)\n",
    "\n",
    "# 数组的形状\n",
    "print(x.shape)\n",
    "print(y.shape)\n",
    "\n",
    "# 数组中的元素数量\n",
    "print(x.size)\n",
    "print(y.size)"
   ]
  },
  {
   "cell_type": "code",
   "execution_count": 24,
   "id": "33812170",
   "metadata": {
    "ExecuteTime": {
     "end_time": "2025-09-01T10:46:34.786951Z",
     "start_time": "2025-09-01T10:46:34.784072Z"
    }
   },
   "outputs": [
    {
     "name": "stdout",
     "output_type": "stream",
     "text": [
      "1\n",
      "2\n",
      "[[0]\n",
      " [1]\n",
      " [2]\n",
      " [3]\n",
      " [4]\n",
      " [5]\n",
      " [6]\n",
      " [7]\n",
      " [8]\n",
      " [9]]\n",
      "[[0 1 2 3 4]\n",
      " [5 6 7 8 9]]\n"
     ]
    }
   ],
   "source": [
    "x = np.arange(10)\n",
    "print(x.ndim)\n",
    "\n",
    "w = x.reshape(2, 5)\n",
    "print(w.ndim)\n",
    "\n",
    "w = x.reshape(10, -1) # -1会根据数据数量和行数自动计算合适的列数。\n",
    "print(w)\n",
    "\n",
    "w = x.reshape(2, -1) \n",
    "print(w)"
   ]
  },
  {
   "cell_type": "code",
   "execution_count": 25,
   "id": "254bb03e",
   "metadata": {
    "ExecuteTime": {
     "end_time": "2025-09-01T10:46:36.679979Z",
     "start_time": "2025-09-01T10:46:36.667632Z"
    }
   },
   "outputs": [
    {
     "ename": "ValueError",
     "evalue": "cannot reshape array of size 10 into shape (3,newaxis)",
     "output_type": "error",
     "traceback": [
      "\u001b[31m---------------------------------------------------------------------------\u001b[39m",
      "\u001b[31mValueError\u001b[39m                                Traceback (most recent call last)",
      "\u001b[36mCell\u001b[39m\u001b[36m \u001b[39m\u001b[32mIn[25]\u001b[39m\u001b[32m, line 1\u001b[39m\n\u001b[32m----> \u001b[39m\u001b[32m1\u001b[39m w = \u001b[43mx\u001b[49m\u001b[43m.\u001b[49m\u001b[43mreshape\u001b[49m\u001b[43m(\u001b[49m\u001b[32;43m3\u001b[39;49m\u001b[43m,\u001b[49m\u001b[43m \u001b[49m\u001b[43m-\u001b[49m\u001b[32;43m1\u001b[39;49m\u001b[43m)\u001b[49m \n\u001b[32m      2\u001b[39m \u001b[38;5;28mprint\u001b[39m(x)\n",
      "\u001b[31mValueError\u001b[39m: cannot reshape array of size 10 into shape (3,newaxis)"
     ]
    }
   ],
   "source": [
    "w = x.reshape(3, -1) \n",
    "print(x)"
   ]
  },
  {
   "cell_type": "code",
   "execution_count": 28,
   "id": "a678708f",
   "metadata": {
    "ExecuteTime": {
     "end_time": "2025-09-01T10:46:38.583460Z",
     "start_time": "2025-09-01T10:46:38.580701Z"
    }
   },
   "outputs": [
    {
     "name": "stdout",
     "output_type": "stream",
     "text": [
      "[[ 0  1  2  3  4]\n",
      " [ 5  6  7  8  9]\n",
      " [10 11 12 13 14]]\n",
      "[0 1 2 3 4 5 6 7 8 9]\n",
      "0\n",
      "9\n",
      "12\n"
     ]
    }
   ],
   "source": [
    "x = np.arange(15).reshape(3, 5)\n",
    "y = np.arange(10)\n",
    "print(x)\n",
    "print(y)\n",
    "\n",
    "# 访问一维数组\n",
    "print(y[0])\n",
    "print(y[-1])\n",
    "\n",
    "# 访问二维数组\n",
    "print(x[2, 2]) # 使用元组访问，等价于x[(2, 2)]，推荐"
   ]
  },
  {
   "cell_type": "code",
   "execution_count": 29,
   "id": "02989c8a",
   "metadata": {
    "ExecuteTime": {
     "end_time": "2025-09-01T10:46:40.894354Z",
     "start_time": "2025-09-01T10:46:40.892138Z"
    }
   },
   "outputs": [
    {
     "name": "stdout",
     "output_type": "stream",
     "text": [
      "[0 1 2 3 4]\n",
      "[0 1 2 3 4]\n",
      "[5 6 7 8 9]\n",
      "[0 2 4 6 8]\n",
      "[9 8 7 6 5 4 3 2 1 0]\n"
     ]
    }
   ],
   "source": [
    "print(y[0:5])\n",
    "print(y[:5])\n",
    "print(y[5:])\n",
    "print(y[::2])\n",
    "print(y[::-1])"
   ]
  },
  {
   "cell_type": "code",
   "execution_count": null,
   "id": "e7fa9dec",
   "metadata": {
    "ExecuteTime": {
     "end_time": "2025-09-01T10:46:43.473526Z",
     "start_time": "2025-09-01T10:46:43.470762Z"
    }
   },
   "outputs": [
    {
     "name": "stdout",
     "output_type": "stream",
     "text": [
      "[[0 1 2]\n",
      " [5 6 7]]\n",
      "[[0 2 4]\n",
      " [5 7 9]]\n",
      "[[14 13 12 11 10]\n",
      " [ 9  8  7  6  5]\n",
      " [ 4  3  2  1  0]]\n",
      "[0 1 2 3 4]\n",
      "[0 1 2 3 4]\n",
      "1\n",
      "(3,)\n"
     ]
    }
   ],
   "source": [
    "print(x[:2, :3]) # 前两行前三列。\n",
    "print(x[:2, ::2])\n",
    "\n",
    "# 反转数组\n",
    "print(x[::-1, ::-1])  \n",
    "\n",
    "# 读取第一行\n",
    "print(x[0])\n",
    "print(x[0, :])\n",
    "\n",
    "# 读取第一列\n",
    "col = x[:, 0]\n",
    "print(col.ndim)\n",
    "print(col.shape)"
   ]
  },
  {
   "cell_type": "code",
   "execution_count": 32,
   "id": "e35e8fb7",
   "metadata": {
    "ExecuteTime": {
     "end_time": "2025-09-01T10:46:45.872510Z",
     "start_time": "2025-09-01T10:46:45.869450Z"
    }
   },
   "outputs": [
    {
     "name": "stdout",
     "output_type": "stream",
     "text": [
      "[[0 1 2]\n",
      " [5 6 7]]\n",
      "[[ 0  1  2  3  4]\n",
      " [ 5  6  7  8  9]\n",
      " [10 11 12 13 14]]\n",
      "[[100   1   2]\n",
      " [  5   6   7]]\n",
      "[[100   1   2   3   4]\n",
      " [  5   6   7   8   9]\n",
      " [ 10  11  12  13  14]]\n",
      "[[ 0  1  2  3  4]\n",
      " [ 5  6  7  8  9]\n",
      " [10 11 12 13 14]]\n",
      "[[0 1 2]\n",
      " [5 6 7]]\n"
     ]
    }
   ],
   "source": [
    "sub_x = x[:2, :3]\n",
    "print(sub_x)\n",
    "print(x)\n",
    "\n",
    "sub_x[0, 0] = 100\n",
    "print(sub_x)\n",
    "print(x)\n",
    "\n",
    "x[0, 0] = 0\n",
    "print(x)\n",
    "print(sub_x)"
   ]
  },
  {
   "cell_type": "code",
   "execution_count": null,
   "id": "3b68d393",
   "metadata": {
    "ExecuteTime": {
     "end_time": "2025-09-01T10:46:47.906740Z",
     "start_time": "2025-09-01T10:46:47.904139Z"
    }
   },
   "outputs": [],
   "source": [
    "sub_x = x[:2, :3].copy()\n",
    "sub_x[0, 0] = 100\n",
    "print(sub_x)\n",
    "print(x)"
   ]
  },
  {
   "cell_type": "code",
   "execution_count": 33,
   "id": "3764d58a",
   "metadata": {
    "ExecuteTime": {
     "end_time": "2025-09-01T10:46:49.616117Z",
     "start_time": "2025-09-01T10:46:49.612768Z"
    }
   },
   "outputs": [
    {
     "name": "stdout",
     "output_type": "stream",
     "text": [
      "[1 2 3]\n",
      "[3 2 1]\n",
      "[1 2 3 3 2 1]\n",
      "[[1 2 3]\n",
      " [4 5 6]\n",
      " [1 2 3]\n",
      " [4 5 6]]\n",
      "[[1 2 3 1 2 3]\n",
      " [4 5 6 4 5 6]]\n"
     ]
    }
   ],
   "source": [
    "x = np.array([1, 2, 3])\n",
    "y = np.array([3, 2, 1])\n",
    "print(x)\n",
    "print(y)\n",
    "print(np.concatenate([x, y]))\n",
    "\n",
    "a = np.array([[1, 2, 3], [4, 5, 6]])\n",
    "print(np.concatenate([a, a]))  # 垂直方向进行拼接\n",
    "print(np.concatenate([a, a], axis=1)) # 水平方向进行拼接\n"
   ]
  },
  {
   "cell_type": "code",
   "execution_count": 34,
   "id": "d69a431c",
   "metadata": {
    "ExecuteTime": {
     "end_time": "2025-09-01T10:46:52.042662Z",
     "start_time": "2025-09-01T10:46:52.028854Z"
    }
   },
   "outputs": [
    {
     "ename": "ValueError",
     "evalue": "all the input arrays must have same number of dimensions, but the array at index 0 has 2 dimension(s) and the array at index 1 has 1 dimension(s)",
     "output_type": "error",
     "traceback": [
      "\u001b[31m---------------------------------------------------------------------------\u001b[39m",
      "\u001b[31mValueError\u001b[39m                                Traceback (most recent call last)",
      "\u001b[36mCell\u001b[39m\u001b[36m \u001b[39m\u001b[32mIn[34]\u001b[39m\u001b[32m, line 1\u001b[39m\n\u001b[32m----> \u001b[39m\u001b[32m1\u001b[39m \u001b[43mnp\u001b[49m\u001b[43m.\u001b[49m\u001b[43mconcatenate\u001b[49m\u001b[43m(\u001b[49m\u001b[43m[\u001b[49m\u001b[43ma\u001b[49m\u001b[43m,\u001b[49m\u001b[43m \u001b[49m\u001b[43my\u001b[49m\u001b[43m]\u001b[49m\u001b[43m)\u001b[49m \u001b[38;5;66;03m# 向量和矩阵不能直接拼接\u001b[39;00m\n\u001b[32m      2\u001b[39m w = np.concatenate([a, y.reshape(\u001b[32m1\u001b[39m, -\u001b[32m1\u001b[39m)]) \u001b[38;5;66;03m# 需要修改y的形状\u001b[39;00m\n\u001b[32m      3\u001b[39m \u001b[38;5;28mprint\u001b[39m(w)\n",
      "\u001b[31mValueError\u001b[39m: all the input arrays must have same number of dimensions, but the array at index 0 has 2 dimension(s) and the array at index 1 has 1 dimension(s)"
     ]
    }
   ],
   "source": [
    "np.concatenate([a, y]) # 向量和矩阵不能直接拼接\n",
    "w = np.concatenate([a, y.reshape(1, -1)]) # 需要修改y的形状\n",
    "print(w)"
   ]
  },
  {
   "cell_type": "code",
   "execution_count": 35,
   "id": "6873171f",
   "metadata": {
    "ExecuteTime": {
     "end_time": "2025-09-01T10:46:54.114933Z",
     "start_time": "2025-09-01T10:46:54.112610Z"
    }
   },
   "outputs": [
    {
     "name": "stdout",
     "output_type": "stream",
     "text": [
      "[[100   1   2   3   4]\n",
      " [  5   6   7   8   9]]\n",
      "[1 2 3]\n"
     ]
    }
   ],
   "source": [
    "w[0, 0] = 100\n",
    "print(w)\n",
    "print(x)"
   ]
  },
  {
   "cell_type": "code",
   "execution_count": null,
   "id": "3f3a14da",
   "metadata": {
    "ExecuteTime": {
     "end_time": "2025-09-01T10:46:56.983514Z",
     "start_time": "2025-09-01T10:46:56.981007Z"
    }
   },
   "outputs": [
    {
     "name": "stdout",
     "output_type": "stream",
     "text": [
      "[[1 2 3]\n",
      " [4 5 6]\n",
      " [3 2 1]]\n",
      "[[100 100]\n",
      " [100 100]]\n",
      "[[  1   2   3 100 100]\n",
      " [  4   5   6 100 100]]\n"
     ]
    }
   ],
   "source": [
    "print(np.vstack([a, y]))\n",
    "\n",
    "b = np.full((2, 2), 100)\n",
    "print(b)\n",
    "print(np.hstack([a, b]))"
   ]
  },
  {
   "cell_type": "code",
   "execution_count": 38,
   "id": "1fade21f",
   "metadata": {
    "ExecuteTime": {
     "end_time": "2025-09-01T10:46:58.812784Z",
     "start_time": "2025-09-01T10:46:58.786986Z"
    }
   },
   "outputs": [
    {
     "ename": "ValueError",
     "evalue": "all the input arrays must have same number of dimensions, but the array at index 0 has 2 dimension(s) and the array at index 1 has 1 dimension(s)",
     "output_type": "error",
     "traceback": [
      "\u001b[31m---------------------------------------------------------------------------\u001b[39m",
      "\u001b[31mValueError\u001b[39m                                Traceback (most recent call last)",
      "\u001b[36mCell\u001b[39m\u001b[36m \u001b[39m\u001b[32mIn[38]\u001b[39m\u001b[32m, line 1\u001b[39m\n\u001b[32m----> \u001b[39m\u001b[32m1\u001b[39m \u001b[38;5;28mprint\u001b[39m(\u001b[43mnp\u001b[49m\u001b[43m.\u001b[49m\u001b[43mhstack\u001b[49m\u001b[43m(\u001b[49m\u001b[43m[\u001b[49m\u001b[43ma\u001b[49m\u001b[43m,\u001b[49m\u001b[43m \u001b[49m\u001b[43my\u001b[49m\u001b[43m]\u001b[49m\u001b[43m)\u001b[49m) \u001b[38;5;66;03m# 报错，数据在水平方向没有对齐。\u001b[39;00m\n",
      "\u001b[36mFile \u001b[39m\u001b[32m~/opt/miniconda3/envs/pylearn/lib/python3.11/site-packages/numpy/_core/shape_base.py:367\u001b[39m, in \u001b[36mhstack\u001b[39m\u001b[34m(tup, dtype, casting)\u001b[39m\n\u001b[32m    365\u001b[39m     \u001b[38;5;28;01mreturn\u001b[39;00m _nx.concatenate(arrs, \u001b[32m0\u001b[39m, dtype=dtype, casting=casting)\n\u001b[32m    366\u001b[39m \u001b[38;5;28;01melse\u001b[39;00m:\n\u001b[32m--> \u001b[39m\u001b[32m367\u001b[39m     \u001b[38;5;28;01mreturn\u001b[39;00m \u001b[43m_nx\u001b[49m\u001b[43m.\u001b[49m\u001b[43mconcatenate\u001b[49m\u001b[43m(\u001b[49m\u001b[43marrs\u001b[49m\u001b[43m,\u001b[49m\u001b[43m \u001b[49m\u001b[32;43m1\u001b[39;49m\u001b[43m,\u001b[49m\u001b[43m \u001b[49m\u001b[43mdtype\u001b[49m\u001b[43m=\u001b[49m\u001b[43mdtype\u001b[49m\u001b[43m,\u001b[49m\u001b[43m \u001b[49m\u001b[43mcasting\u001b[49m\u001b[43m=\u001b[49m\u001b[43mcasting\u001b[49m\u001b[43m)\u001b[49m\n",
      "\u001b[31mValueError\u001b[39m: all the input arrays must have same number of dimensions, but the array at index 0 has 2 dimension(s) and the array at index 1 has 1 dimension(s)"
     ]
    }
   ],
   "source": [
    "print(np.hstack([a, y])) # 报错，数据在水平方向没有对齐。"
   ]
  },
  {
   "cell_type": "code",
   "execution_count": 40,
   "id": "58a24792",
   "metadata": {
    "ExecuteTime": {
     "end_time": "2025-09-01T10:47:01.331984Z",
     "start_time": "2025-09-01T10:47:01.327520Z"
    }
   },
   "outputs": [
    {
     "name": "stdout",
     "output_type": "stream",
     "text": [
      "[0 1 2] [3 4 5 6] [7 8 9]\n",
      "[0 1 2 3 4] [5 6 7 8 9]\n"
     ]
    }
   ],
   "source": [
    "x = np.arange(10)\n",
    "x1, x2, x3 = np.split(x, [3, 7]) # 第二个参数为分割点，参数形式必须是数组。\n",
    "print(x1, x2, x3)\n",
    "w1, w2 = np.split(x, [5])\n",
    "print(w1, w2)"
   ]
  },
  {
   "cell_type": "code",
   "execution_count": 41,
   "id": "4a6d84f1",
   "metadata": {},
   "outputs": [
    {
     "name": "stdout",
     "output_type": "stream",
     "text": [
      "[100   1   2]\n",
      "[100   1   2   3   4   5   6   7   8   9]\n"
     ]
    }
   ],
   "source": [
    "x1[0] = 100\n",
    "print(x1)\n",
    "print(x)"
   ]
  },
  {
   "cell_type": "code",
   "execution_count": 42,
   "id": "8931d3ba",
   "metadata": {},
   "outputs": [
    {
     "name": "stdout",
     "output_type": "stream",
     "text": [
      "[[ 0  1  2  3]\n",
      " [ 4  5  6  7]\n",
      " [ 8  9 10 11]\n",
      " [12 13 14 15]]\n",
      "[[0 1 2 3]\n",
      " [4 5 6 7]]\n",
      "[[ 8  9 10 11]\n",
      " [12 13 14 15]]\n"
     ]
    }
   ],
   "source": [
    "a = np.arange(16).reshape(4, 4)\n",
    "a1, a2 = np.split(a, [2])  # 在水平方向上分割矩阵\n",
    "print(a)\n",
    "print(a1)\n",
    "print(a2)"
   ]
  },
  {
   "cell_type": "code",
   "execution_count": 43,
   "id": "14e40f7e",
   "metadata": {},
   "outputs": [
    {
     "name": "stdout",
     "output_type": "stream",
     "text": [
      "[[ 0  1  2  3]\n",
      " [ 4  5  6  7]\n",
      " [ 8  9 10 11]\n",
      " [12 13 14 15]]\n",
      "[[ 0  1]\n",
      " [ 4  5]\n",
      " [ 8  9]\n",
      " [12 13]]\n",
      "[[ 2]\n",
      " [ 6]\n",
      " [10]\n",
      " [14]]\n",
      "[[ 3]\n",
      " [ 7]\n",
      " [11]\n",
      " [15]]\n"
     ]
    }
   ],
   "source": [
    "a1, a2, a3 = np.split(a, [2, 3], axis=1) # 在垂直方向上进行分割\n",
    "print(a)\n",
    "print(a1)\n",
    "print(a2)\n",
    "print(a3)"
   ]
  },
  {
   "cell_type": "code",
   "execution_count": 45,
   "id": "bac44f7f",
   "metadata": {
    "ExecuteTime": {
     "end_time": "2025-09-01T10:47:03.531314Z",
     "start_time": "2025-09-01T10:47:03.527884Z"
    }
   },
   "outputs": [
    {
     "name": "stdout",
     "output_type": "stream",
     "text": [
      "[[0 1 2 3]\n",
      " [4 5 6 7]]\n",
      "[[ 8  9 10 11]\n",
      " [12 13 14 15]]\n"
     ]
    }
   ],
   "source": [
    "upper, lower = np.vsplit(a, [2])\n",
    "print(upper)\n",
    "print(lower)"
   ]
  },
  {
   "cell_type": "code",
   "execution_count": 47,
   "id": "a868cf88",
   "metadata": {},
   "outputs": [
    {
     "name": "stdout",
     "output_type": "stream",
     "text": [
      "[[ 0  1]\n",
      " [ 4  5]\n",
      " [ 8  9]\n",
      " [12 13]]\n",
      "[[ 2  3]\n",
      " [ 6  7]\n",
      " [10 11]\n",
      " [14 15]]\n"
     ]
    }
   ],
   "source": [
    "left, right = np.hsplit(a, [2])\n",
    "print(left)\n",
    "print(right)"
   ]
  },
  {
   "cell_type": "code",
   "execution_count": 48,
   "id": "41dfaadc",
   "metadata": {},
   "outputs": [
    {
     "name": "stdout",
     "output_type": "stream",
     "text": [
      "[ 3  7 11 15]\n"
     ]
    }
   ],
   "source": [
    "# 获取最后一列，并转换为一维数组\n",
    "x, y = np.hsplit(a, [-1])\n",
    "y = y[:, 0] \n",
    "print(y)"
   ]
  },
  {
   "cell_type": "code",
   "execution_count": 49,
   "id": "acf8d1c8",
   "metadata": {
    "ExecuteTime": {
     "end_time": "2025-09-01T10:51:40.682076Z",
     "start_time": "2025-09-01T10:51:40.659541Z"
    }
   },
   "outputs": [],
   "source": [
    "n = 1000000\n",
    "l = [i for i in range(n)]"
   ]
  },
  {
   "cell_type": "code",
   "execution_count": 50,
   "id": "3d584b1c",
   "metadata": {
    "ExecuteTime": {
     "end_time": "2025-09-01T10:54:58.810915Z",
     "start_time": "2025-09-01T10:54:58.784466Z"
    }
   },
   "outputs": [
    {
     "name": "stdout",
     "output_type": "stream",
     "text": [
      "列表长度: 1000000\n",
      "前10个元素: [0, 2, 4, 6, 8, 10, 12, 14, 16, 18]\n",
      "CPU times: user 29.2 ms, sys: 11.8 ms, total: 41.1 ms\n",
      "Wall time: 48.3 ms\n"
     ]
    }
   ],
   "source": [
    "%%time\n",
    "double = []\n",
    "for i in l:\n",
    "    double.append(2 * i)\n",
    "print(f\"列表长度: {len(double)}\")\n",
    "print(\"前10个元素:\", double[:10])"
   ]
  },
  {
   "cell_type": "code",
   "execution_count": 51,
   "id": "d9526484",
   "metadata": {
    "ExecuteTime": {
     "end_time": "2025-09-01T10:55:01.426665Z",
     "start_time": "2025-09-01T10:55:01.402382Z"
    }
   },
   "outputs": [
    {
     "name": "stdout",
     "output_type": "stream",
     "text": [
      "列表长度: 1000000\n",
      "前10个元素: [0, 2, 4, 6, 8, 10, 12, 14, 16, 18]\n",
      "CPU times: user 21.3 ms, sys: 11.7 ms, total: 33 ms\n",
      "Wall time: 40.5 ms\n"
     ]
    }
   ],
   "source": [
    "%%time\n",
    "double = [2 * i for i in l]\n",
    "print(f\"列表长度: {len(double)}\")\n",
    "print(\"前10个元素:\", double[:10])"
   ]
  },
  {
   "cell_type": "code",
   "execution_count": 52,
   "id": "ab87be4e",
   "metadata": {
    "ExecuteTime": {
     "end_time": "2025-09-01T10:55:28.839670Z",
     "start_time": "2025-09-01T10:55:28.834529Z"
    }
   },
   "outputs": [],
   "source": [
    "l = np.arange(n)"
   ]
  },
  {
   "cell_type": "code",
   "execution_count": 53,
   "id": "11e3629bd43683d2",
   "metadata": {
    "ExecuteTime": {
     "end_time": "2025-09-01T10:57:57.850589Z",
     "start_time": "2025-09-01T10:57:57.848962Z"
    }
   },
   "outputs": [
    {
     "name": "stdout",
     "output_type": "stream",
     "text": [
      "CPU times: user 4.46 ms, sys: 2.25 ms, total: 6.71 ms\n",
      "Wall time: 6.76 ms\n"
     ]
    }
   ],
   "source": [
    "%%time\n",
    "double = np.array(2 * i for i in l)"
   ]
  },
  {
   "cell_type": "code",
   "execution_count": 54,
   "id": "968d4daba07bb072",
   "metadata": {
    "ExecuteTime": {
     "end_time": "2025-09-01T10:58:18.751738Z",
     "start_time": "2025-09-01T10:58:18.749063Z"
    }
   },
   "outputs": [
    {
     "name": "stdout",
     "output_type": "stream",
     "text": [
      "[      0       2       4 ... 1999994 1999996 1999998]\n",
      "CPU times: user 1.23 ms, sys: 1.62 ms, total: 2.85 ms\n",
      "Wall time: 1.7 ms\n"
     ]
    }
   ],
   "source": [
    "%%time\n",
    "double = 2 * l # Numpy支持向量与常数的运算操作\n",
    "print(double)"
   ]
  },
  {
   "cell_type": "code",
   "execution_count": 55,
   "id": "6095c4476526e31",
   "metadata": {
    "ExecuteTime": {
     "end_time": "2025-09-01T11:00:09.949930Z",
     "start_time": "2025-09-01T11:00:09.947556Z"
    }
   },
   "outputs": [
    {
     "name": "stdout",
     "output_type": "stream",
     "text": [
      "[[ 2  3  4  5  6]\n",
      " [ 7  8  9 10 11]\n",
      " [12 13 14 15 16]]\n",
      "[[ 0  1  2  3  4]\n",
      " [ 5  6  7  8  9]\n",
      " [10 11 12 13 14]]\n",
      "[[ 2  4  6  8 10]\n",
      " [12 14 16 18 20]\n",
      " [22 24 26 28 30]]\n",
      "[[0.5 1.  1.5 2.  2.5]\n",
      " [3.  3.5 4.  4.5 5. ]\n",
      " [5.5 6.  6.5 7.  7.5]]\n",
      "[[0 1 1 2 2]\n",
      " [3 3 4 4 5]\n",
      " [5 6 6 7 7]]\n",
      "[[  1   4   9  16  25]\n",
      " [ 36  49  64  81 100]\n",
      " [121 144 169 196 225]]\n",
      "[[1 0 1 0 1]\n",
      " [0 1 0 1 0]\n",
      " [1 0 1 0 1]]\n",
      "[[1.         0.5        0.33333333 0.25       0.2       ]\n",
      " [0.16666667 0.14285714 0.125      0.11111111 0.1       ]\n",
      " [0.09090909 0.08333333 0.07692308 0.07142857 0.06666667]]\n"
     ]
    }
   ],
   "source": [
    "x = np.arange(1, 16).reshape(3, 5)\n",
    "\n",
    "print(x + 1)\n",
    "print(x - 1)\n",
    "print(x * 2)\n",
    "print(x / 2)\n",
    "print(x // 2)\n",
    "print(x ** 2)\n",
    "print(x % 2)\n",
    "print(1 / x)"
   ]
  },
  {
   "cell_type": "code",
   "execution_count": 56,
   "id": "3d22bfdc54099746",
   "metadata": {
    "ExecuteTime": {
     "end_time": "2025-09-01T11:02:20.927933Z",
     "start_time": "2025-09-01T11:02:20.924018Z"
    }
   },
   "outputs": [
    {
     "name": "stdout",
     "output_type": "stream",
     "text": [
      "[[ 1  2  3  4  5]\n",
      " [ 6  7  8  9 10]\n",
      " [11 12 13 14 15]]\n",
      "[[ 0.84147098  0.90929743  0.14112001 -0.7568025  -0.95892427]\n",
      " [-0.2794155   0.6569866   0.98935825  0.41211849 -0.54402111]\n",
      " [-0.99999021 -0.53657292  0.42016704  0.99060736  0.65028784]]\n",
      "[[ 0.54030231 -0.41614684 -0.9899925  -0.65364362  0.28366219]\n",
      " [ 0.96017029  0.75390225 -0.14550003 -0.91113026 -0.83907153]\n",
      " [ 0.0044257   0.84385396  0.90744678  0.13673722 -0.75968791]]\n",
      "[[ 1.55740772e+00 -2.18503986e+00 -1.42546543e-01  1.15782128e+00\n",
      "  -3.38051501e+00]\n",
      " [-2.91006191e-01  8.71447983e-01 -6.79971146e+00 -4.52315659e-01\n",
      "   6.48360827e-01]\n",
      " [-2.25950846e+02 -6.35859929e-01  4.63021133e-01  7.24460662e+00\n",
      "  -8.55993401e-01]]\n",
      "[[2.71828183e+00 7.38905610e+00 2.00855369e+01 5.45981500e+01\n",
      "  1.48413159e+02]\n",
      " [4.03428793e+02 1.09663316e+03 2.98095799e+03 8.10308393e+03\n",
      "  2.20264658e+04]\n",
      " [5.98741417e+04 1.62754791e+05 4.42413392e+05 1.20260428e+06\n",
      "  3.26901737e+06]]\n",
      "[[       3        9       27       81      243]\n",
      " [     729     2187     6561    19683    59049]\n",
      " [  177147   531441  1594323  4782969 14348907]]\n",
      "[[0.         0.69314718 1.09861229 1.38629436 1.60943791]\n",
      " [1.79175947 1.94591015 2.07944154 2.19722458 2.30258509]\n",
      " [2.39789527 2.48490665 2.56494936 2.63905733 2.7080502 ]]\n",
      "[[0.         1.         1.5849625  2.         2.32192809]\n",
      " [2.5849625  2.80735492 3.         3.169925   3.32192809]\n",
      " [3.45943162 3.5849625  3.70043972 3.80735492 3.9068906 ]]\n",
      "[[0.         0.30103    0.47712125 0.60205999 0.69897   ]\n",
      " [0.77815125 0.84509804 0.90308999 0.95424251 1.        ]\n",
      " [1.04139269 1.07918125 1.11394335 1.14612804 1.17609126]]\n"
     ]
    }
   ],
   "source": [
    "print(np.abs(x))\n",
    "print(np.sin(x))\n",
    "print(np.cos(x))\n",
    "print(np.tan(x))\n",
    "print(np.exp(x))\n",
    "print(np.power(3, x)) # 等价于x ** 3\n",
    "print(np.log(x)) # 已e为底的对数\n",
    "print(np.log2(x))\n",
    "print(np.log10(x))"
   ]
  },
  {
   "cell_type": "code",
   "execution_count": 57,
   "id": "3d1970fd515ea107",
   "metadata": {
    "ExecuteTime": {
     "end_time": "2025-09-01T11:03:37.224170Z",
     "start_time": "2025-09-01T11:03:37.222248Z"
    }
   },
   "outputs": [
    {
     "name": "stdout",
     "output_type": "stream",
     "text": [
      "[[10 11]\n",
      " [12 13]]\n",
      "[[-10  -9]\n",
      " [ -8  -7]]\n",
      "[[ 0 10]\n",
      " [20 30]]\n",
      "[[0.  0.1]\n",
      " [0.2 0.3]]\n"
     ]
    }
   ],
   "source": [
    "a = np.arange(4).reshape(2, 2)\n",
    "b = np.full((2, 2), 10)\n",
    "\n",
    "print(a + b)\n",
    "print(a - b)\n",
    "print(a * b)\n",
    "print(a / b)"
   ]
  },
  {
   "cell_type": "code",
   "execution_count": 58,
   "id": "4da4510ff7c38343",
   "metadata": {
    "ExecuteTime": {
     "end_time": "2025-09-01T11:05:47.319352Z",
     "start_time": "2025-09-01T11:05:47.317735Z"
    }
   },
   "outputs": [
    {
     "name": "stdout",
     "output_type": "stream",
     "text": [
      "[[10 10]\n",
      " [50 50]]\n",
      "[[0 2]\n",
      " [1 3]]\n"
     ]
    }
   ],
   "source": [
    "print(a.dot(b)) # 矩阵乘法\n",
    "print(a.T) # 矩阵的转置"
   ]
  },
  {
   "cell_type": "code",
   "execution_count": 59,
   "id": "ce84039f1d36f4e3",
   "metadata": {
    "ExecuteTime": {
     "end_time": "2025-09-01T11:06:15.236985Z",
     "start_time": "2025-09-01T11:06:15.235188Z"
    }
   },
   "outputs": [
    {
     "name": "stdout",
     "output_type": "stream",
     "text": [
      "[[1. 0.]\n",
      " [0. 1.]]\n",
      "[[1. 0.]\n",
      " [0. 1.]]\n"
     ]
    }
   ],
   "source": [
    "inv_a = np.linalg.inv(a)\n",
    "\n",
    "print(a.dot(inv_a)) # 原局长和逆矩阵矩阵乘法得到单位阵\n",
    "print(inv_a.dot(a))"
   ]
  },
  {
   "cell_type": "code",
   "execution_count": 60,
   "id": "790e48590f0664d7",
   "metadata": {
    "ExecuteTime": {
     "end_time": "2025-09-01T11:31:22.629342Z",
     "start_time": "2025-09-01T11:31:22.626900Z"
    }
   },
   "outputs": [
    {
     "name": "stdout",
     "output_type": "stream",
     "text": [
      "[[1 3]\n",
      " [3 5]]\n",
      "[[0 2]\n",
      " [2 6]]\n"
     ]
    }
   ],
   "source": [
    "v = np.array([1, 2])\n",
    "print(v + a)\n",
    "print(v * a)"
   ]
  },
  {
   "cell_type": "code",
   "execution_count": 61,
   "id": "4e66ba49c137b69e",
   "metadata": {
    "ExecuteTime": {
     "end_time": "2025-09-01T11:32:25.056465Z",
     "start_time": "2025-09-01T11:32:25.053164Z"
    }
   },
   "outputs": [
    {
     "name": "stdout",
     "output_type": "stream",
     "text": [
      "[[1 2]\n",
      " [1 2]]\n",
      "[[1 2 1 2]\n",
      " [1 2 1 2]]\n",
      "[[1 3]\n",
      " [3 5]]\n"
     ]
    }
   ],
   "source": [
    "print(np.tile(v, (2, 1))) # 水平方向上堆叠2次，垂直方向闪堆叠1次。\n",
    "print(np.tile(v, (2, 2)))\n",
    "\n",
    "print(np.tile(v, (2, 1)) + a) # 与v+a操作相同"
   ]
  },
  {
   "cell_type": "code",
   "execution_count": 62,
   "id": "df45c3714ff8c2c3",
   "metadata": {
    "ExecuteTime": {
     "end_time": "2025-09-01T11:32:48.315917Z",
     "start_time": "2025-09-01T11:32:48.314363Z"
    }
   },
   "outputs": [
    {
     "name": "stdout",
     "output_type": "stream",
     "text": [
      "[4 7]\n",
      "[2 8]\n"
     ]
    }
   ],
   "source": [
    "print(v.dot(a))\n",
    "print(a.dot(v)) # Numpy可以自动转换向量形式与矩阵进行运算"
   ]
  },
  {
   "cell_type": "code",
   "execution_count": 63,
   "id": "cfbcbbc569ab6ac2",
   "metadata": {
    "ExecuteTime": {
     "end_time": "2025-09-01T11:33:42.312072Z",
     "start_time": "2025-09-01T11:33:42.276419Z"
    }
   },
   "outputs": [
    {
     "name": "stdout",
     "output_type": "stream",
     "text": [
      "CPU times: user 35.2 ms, sys: 5.22 ms, total: 40.4 ms\n",
      "Wall time: 49.9 ms\n",
      "CPU times: user 291 μs, sys: 71 μs, total: 362 μs\n",
      "Wall time: 259 μs\n"
     ]
    },
    {
     "data": {
      "text/plain": [
       "np.float64(500179.6546187949)"
      ]
     },
     "execution_count": 63,
     "metadata": {},
     "output_type": "execute_result"
    }
   ],
   "source": [
    "big_array = np.random.random(1000000)\n",
    "%time sum(big_array)\n",
    "%time np.sum(big_array)"
   ]
  },
  {
   "cell_type": "code",
   "execution_count": 64,
   "id": "a955a8aa40f4e6fa",
   "metadata": {
    "ExecuteTime": {
     "end_time": "2025-09-01T11:49:45.502189Z",
     "start_time": "2025-09-01T11:49:45.499288Z"
    }
   },
   "outputs": [
    {
     "name": "stdout",
     "output_type": "stream",
     "text": [
      "1.827632976070248e-06\n",
      "1.827632976070248e-06\n",
      "0.9999993748010294\n",
      "500179.6546187949\n",
      "120\n",
      "[24 28 32 36]\n",
      "[ 6 22 38 54]\n"
     ]
    }
   ],
   "source": [
    "print(np.min(big_array))\n",
    "np.max(big_array)\n",
    "\n",
    "# 部分聚合操作可以通过向量直接调用\n",
    "print(big_array.min())\n",
    "print(big_array.max())\n",
    "print(big_array.sum())\n",
    "\n",
    "# 聚合运算默认是对整个数组进行计算\n",
    "x = np.arange(16).reshape(4, 4)\n",
    "print(np.sum(x))\n",
    "\n",
    "# 指定方向的求和\n",
    "print(np.sum(x, axis=0)) # 在水平方向进行压缩\n",
    "print(np.sum(x, axis=1)) # 在垂直方向进行压缩，计算结果仍未一维向量。"
   ]
  },
  {
   "cell_type": "code",
   "execution_count": 65,
   "id": "83d6c33c9430eace",
   "metadata": {
    "ExecuteTime": {
     "end_time": "2025-09-01T12:22:39.964527Z",
     "start_time": "2025-09-01T12:22:39.958517Z"
    }
   },
   "outputs": [
    {
     "name": "stdout",
     "output_type": "stream",
     "text": [
      "20922789888000\n",
      "7.5\n",
      "7.5\n",
      "0.08341548789604251\n",
      "0.28881739541800894\n"
     ]
    }
   ],
   "source": [
    "print(np.prod(x+1)) # 将所有数相乘\n",
    "print(np.mean(x)) # 求均值\n",
    "print(np.median(x)) # 求中位数\n",
    "print(np.var(big_array)) # 求方差\n",
    "print(np.std(big_array)) # 求标准差"
   ]
  },
  {
   "cell_type": "code",
   "execution_count": 66,
   "id": "90514ad0e008f9d1",
   "metadata": {
    "ExecuteTime": {
     "end_time": "2025-09-01T12:24:29.322678Z",
     "start_time": "2025-09-01T12:24:29.309524Z"
    }
   },
   "outputs": [
    {
     "name": "stdout",
     "output_type": "stream",
     "text": [
      "610335\n",
      "849856\n"
     ]
    }
   ],
   "source": [
    "x = np.random.normal(0, 1, size=1000000)\n",
    "print(np.argmin(x)) # 获得最小值位置索引\n",
    "print(np.argmax(x)) # 获得最大值位置索引"
   ]
  },
  {
   "cell_type": "code",
   "execution_count": 67,
   "id": "d8a25a77061a1f66",
   "metadata": {
    "ExecuteTime": {
     "end_time": "2025-09-01T12:25:32.314293Z",
     "start_time": "2025-09-01T12:25:32.310480Z"
    }
   },
   "outputs": [
    {
     "name": "stdout",
     "output_type": "stream",
     "text": [
      "[ 5 12 10  7  9 15 14  8  2 13  4 11  0  1  3  6]\n",
      "[ 0  1  2  3  4  5  6  7  8  9 10 11 12 13 14 15]\n",
      "[ 0  1  2  3  4  5  6  7  8  9 10 11 12 13 14 15]\n"
     ]
    }
   ],
   "source": [
    "x = np.arange(16)\n",
    "np.random.shuffle(x) # 将数组打乱\n",
    "print(x)\n",
    "\n",
    "z = np.sort(x) # 排序后返回新数组，x顺序不变\n",
    "print(z)\n",
    "\n",
    "x.sort() # 对x自身排序\n",
    "print(x)"
   ]
  },
  {
   "cell_type": "code",
   "execution_count": 68,
   "id": "cfc7cee6a48313f1",
   "metadata": {
    "ExecuteTime": {
     "end_time": "2025-09-01T12:26:09.794987Z",
     "start_time": "2025-09-01T12:26:09.793149Z"
    }
   },
   "outputs": [
    {
     "name": "stdout",
     "output_type": "stream",
     "text": [
      "[[2 2 5 8]\n",
      " [2 4 5 8]\n",
      " [1 4 8 9]\n",
      " [0 1 3 6]]\n",
      "[[2 0 1 4]\n",
      " [3 2 1 6]\n",
      " [5 4 2 8]\n",
      " [9 8 5 8]]\n"
     ]
    }
   ],
   "source": [
    "x = np.random.randint(10, size=(4, 4))\n",
    "\n",
    "print(np.sort(x)) # 对每一行数据进行排序\n",
    "print(np.sort(x, axis=0)) # 沿着水平方向进行排序"
   ]
  },
  {
   "cell_type": "code",
   "execution_count": 69,
   "id": "bf24e208c1bcdb71",
   "metadata": {
    "ExecuteTime": {
     "end_time": "2025-09-01T12:26:48.257663Z",
     "start_time": "2025-09-01T12:26:48.255749Z"
    }
   },
   "outputs": [
    {
     "name": "stdout",
     "output_type": "stream",
     "text": [
      "[ 4 10  9  5 13  2 14  0  3 15  8 11 12  7  1  6]\n",
      "[ 7 14  5  8  0  3 15 13 10  2  1 11 12  4  6  9]\n"
     ]
    }
   ],
   "source": [
    "x = np.arange(16)\n",
    "np.random.shuffle(x)\n",
    "print(x)\n",
    "\n",
    "print(np.argsort(x)) # 返回排序后数字的索引值，对矩阵同样成立"
   ]
  },
  {
   "cell_type": "code",
   "execution_count": 71,
   "id": "422b8fa5f735821",
   "metadata": {
    "ExecuteTime": {
     "end_time": "2025-09-01T12:29:13.466210Z",
     "start_time": "2025-09-01T12:29:13.464267Z"
    }
   },
   "outputs": [
    {
     "name": "stdout",
     "output_type": "stream",
     "text": [
      "[ 0  1  2  3  4  5  6  7  8  9 10 11 12 13 14 15]\n",
      "[3 5 8]\n",
      "[[0 2]\n",
      " [1 3]]\n"
     ]
    }
   ],
   "source": [
    "x = np.arange(16)\n",
    "print(x)\n",
    "\n",
    "# 指定特定元素的索引\n",
    "index = [3, 5, 8]\n",
    "print(x[index])\n",
    "\n",
    "# 根据原数组索引生成二维矩阵\n",
    "index = np.array([[0, 2], [1, 3]])\n",
    "print(x[index])"
   ]
  },
  {
   "cell_type": "code",
   "execution_count": 72,
   "id": "890edd77996a8bac",
   "metadata": {
    "ExecuteTime": {
     "end_time": "2025-09-01T12:31:38.393074Z",
     "start_time": "2025-09-01T12:31:38.391105Z"
    }
   },
   "outputs": [
    {
     "name": "stdout",
     "output_type": "stream",
     "text": [
      "[[ 0  1  2  3]\n",
      " [ 4  5  6  7]\n",
      " [ 8  9 10 11]\n",
      " [12 13 14 15]]\n",
      "[ 1  6 11]\n",
      "[1 2 3]\n",
      "[[1 2 3]\n",
      " [5 6 7]]\n"
     ]
    }
   ],
   "source": [
    "w = x.reshape(4, -1)\n",
    "print(w)\n",
    "\n",
    "row = np.array([0, 1, 2])\n",
    "col = np.array([1, 2, 3])\n",
    "print(w[row, col])\n",
    "print(w[0, col])\n",
    "print(w[:2, col])"
   ]
  },
  {
   "cell_type": "code",
   "execution_count": 73,
   "id": "d5c315e9fc25b07d",
   "metadata": {
    "ExecuteTime": {
     "end_time": "2025-09-01T12:31:25.542647Z",
     "start_time": "2025-09-01T12:31:25.541028Z"
    }
   },
   "outputs": [
    {
     "name": "stdout",
     "output_type": "stream",
     "text": [
      "[[ 4  6  7]\n",
      " [ 8 10 11]]\n"
     ]
    }
   ],
   "source": [
    "col = [True, False, True, True]\n",
    "print(w[1:3, col])"
   ]
  },
  {
   "cell_type": "code",
   "execution_count": 74,
   "id": "3a75d93ca51a054",
   "metadata": {
    "ExecuteTime": {
     "end_time": "2025-09-01T12:38:51.233039Z",
     "start_time": "2025-09-01T12:38:51.231022Z"
    }
   },
   "outputs": [
    {
     "name": "stdout",
     "output_type": "stream",
     "text": [
      "[ 0  1  2  3  4  5  6  7  8  9 10 11 12 13 14 15]\n",
      "[ True  True  True False False False False False False False False False\n",
      " False False False False]\n",
      "[False False False False  True  True  True  True  True  True  True  True\n",
      "  True  True  True  True]\n",
      "[ True  True  True  True False False False False False False False False\n",
      " False False False False]\n",
      "[False False False  True  True  True  True  True  True  True  True  True\n",
      "  True  True  True  True]\n",
      "[False False False  True False False False False False False False False\n",
      " False False False False]\n",
      "[ True  True  True False  True  True  True  True  True  True  True  True\n",
      "  True  True  True  True]\n",
      "[[ True  True  True  True]\n",
      " [ True  True False False]\n",
      " [False False False False]\n",
      " [False False False False]]\n"
     ]
    }
   ],
   "source": [
    "x = np.arange(16)\n",
    "print(x)\n",
    "\n",
    "print(x < 3)\n",
    "print(x > 3)\n",
    "print(x <= 3)\n",
    "print(x >= 3)\n",
    "print(x == 3)\n",
    "print(x != 3)\n",
    "\n",
    "w = x.reshape(4, -1)\n",
    "print(w < 6)"
   ]
  },
  {
   "cell_type": "code",
   "execution_count": 75,
   "id": "b73810569a8aacbb",
   "metadata": {
    "ExecuteTime": {
     "end_time": "2025-09-01T12:43:27.822576Z",
     "start_time": "2025-09-01T12:43:27.820192Z"
    }
   },
   "outputs": [
    {
     "name": "stdout",
     "output_type": "stream",
     "text": [
      "4\n",
      "4\n"
     ]
    }
   ],
   "source": [
    "print(np.sum(x <= 3))  # 统计小于3数据的数量\n",
    "print(np.count_nonzero(x <= 3))  # 统计0元素"
   ]
  },
  {
   "cell_type": "code",
   "execution_count": 76,
   "id": "8977822bebc82c6d",
   "metadata": {
    "ExecuteTime": {
     "end_time": "2025-09-01T12:43:59.844031Z",
     "start_time": "2025-09-01T12:43:59.842364Z"
    }
   },
   "outputs": [
    {
     "name": "stdout",
     "output_type": "stream",
     "text": [
      "True\n",
      "False\n"
     ]
    }
   ],
   "source": [
    "print(np.any(x == 0)) # 是否存等于0的元素\n",
    "print(np.any(x < 0)) # 是否存在小于0的元素"
   ]
  },
  {
   "cell_type": "code",
   "execution_count": 77,
   "id": "bbccdcd816a59152",
   "metadata": {
    "ExecuteTime": {
     "end_time": "2025-09-01T12:44:24.161943Z",
     "start_time": "2025-09-01T12:44:24.160336Z"
    }
   },
   "outputs": [
    {
     "name": "stdout",
     "output_type": "stream",
     "text": [
      "True\n",
      "False\n"
     ]
    }
   ],
   "source": [
    "print(np.all(x >= 0)) # 全部元素都大于等于0\n",
    "print(np.all(x > 0)) # 全部元素大于0"
   ]
  },
  {
   "cell_type": "code",
   "execution_count": 78,
   "id": "4498df28d3a67e93",
   "metadata": {
    "ExecuteTime": {
     "end_time": "2025-09-01T12:45:10.924945Z",
     "start_time": "2025-09-01T12:45:10.922600Z"
    }
   },
   "outputs": [
    {
     "name": "stdout",
     "output_type": "stream",
     "text": [
      "8\n",
      "[2 2 2 2]\n",
      "[False  True  True  True]\n"
     ]
    }
   ],
   "source": [
    "print(np.sum(w % 2 == 0)) # 判断矩阵中有多少偶数\n",
    "print(np.sum(w % 2 == 0, axis=1)) # 计算每一列有多少偶数\n",
    "print(np.all(w > 0, axis=1)) # 判断在列方向上是否全部大于0"
   ]
  },
  {
   "cell_type": "code",
   "execution_count": 79,
   "id": "366aeb18d0ccebfa",
   "metadata": {
    "ExecuteTime": {
     "end_time": "2025-09-01T12:45:48.807233Z",
     "start_time": "2025-09-01T12:45:48.805538Z"
    }
   },
   "outputs": [
    {
     "name": "stdout",
     "output_type": "stream",
     "text": [
      "6\n",
      "11\n",
      "15\n"
     ]
    }
   ],
   "source": [
    "print(np.sum((w > 3) & (w < 10))) # 与运算\n",
    "print(np.sum((w % 2 == 0) | (w > 10))) # 或运算\n",
    "print(np.sum(~(w == 0))) # 非运算"
   ]
  },
  {
   "cell_type": "code",
   "execution_count": 80,
   "id": "6ec9199900b5d5df",
   "metadata": {
    "ExecuteTime": {
     "end_time": "2025-09-01T12:46:23.429788Z",
     "start_time": "2025-09-01T12:46:23.428027Z"
    }
   },
   "outputs": [
    {
     "name": "stdout",
     "output_type": "stream",
     "text": [
      "[0 1 2 3 4]\n",
      "[ 0  2  4  6  8 10 12 14]\n",
      "[[ 0  1  2  3]\n",
      " [12 13 14 15]]\n"
     ]
    }
   ],
   "source": [
    "print(x[x < 5]) # 索引小于5的值\n",
    "print(x[x % 2 == 0]) # 所有的偶数值\n",
    "print(w[w[:, 3] % 3 == 0, :]) # w最后一列可以被3整除的行构成的数组。"
   ]
  }
 ],
 "metadata": {
  "kernelspec": {
   "display_name": "pylearn",
   "language": "python",
   "name": "python3"
  },
  "language_info": {
   "codemirror_mode": {
    "name": "ipython",
    "version": 3
   },
   "file_extension": ".py",
   "mimetype": "text/x-python",
   "name": "python",
   "nbconvert_exporter": "python",
   "pygments_lexer": "ipython3",
   "version": "3.11.13"
  }
 },
 "nbformat": 4,
 "nbformat_minor": 5
}
